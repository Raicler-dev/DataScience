{
 "cells": [
  {
   "cell_type": "markdown",
   "id": "553f2b72-44cc-443e-bad7-7c6042a18ad9",
   "metadata": {},
   "source": [
    "# Data Science Tools and Ecosystem"
   ]
  },
  {
   "cell_type": "markdown",
   "id": "de959b76-e146-4d19-9b02-f2bc5cb9aeb0",
   "metadata": {},
   "source": [
    "In this notebook, Data Science Tools and Ecosystem are summarized."
   ]
  },
  {
   "cell_type": "markdown",
   "id": "f5a38137-e705-4011-a189-239c2b673b80",
   "metadata": {},
   "source": [
    "**Objectives:**\n",
    "Its main objective is to identify patterns, trends, and relationships that can be used to make informed decisions, optimize processes, and solve problems in different areas.\n",
    "* Learn basic concepts of data science.\n",
    "* Learn to use different tools for data science.\n",
    "* Learn to use Jupyter Notebook, R and Python."
   ]
  },
  {
   "cell_type": "markdown",
   "id": "e994f62a-2fc6-4a03-a6b9-d9e919bfa40c",
   "metadata": {},
   "source": [
    "Some of the popular languages that Data Scientists use are:\n",
    "1. Python\n",
    "2. R\n",
    "3. SQL"
   ]
  },
  {
   "cell_type": "markdown",
   "id": "be479c6a-e6c0-4d81-8744-24c4a641b8da",
   "metadata": {},
   "source": [
    "Some of the commonly used libraries used by Data Scientists include:\n",
    "- Pandas\n",
    "- NumPy\n",
    "- Matplotlib\n",
    "- Seaborn\n"
   ]
  },
  {
   "cell_type": "markdown",
   "id": "e1dca456-7443-4b4d-9831-02ff108c2e9b",
   "metadata": {},
   "source": [
    "|Data Science Tools|\n",
    "|------------------|\n",
    "|Jupyter|\n",
    "|Pytorch|\n",
    "|MLFlow|\n"
   ]
  },
  {
   "cell_type": "markdown",
   "id": "54e85330-dd48-40a6-a267-fb5c59b05266",
   "metadata": {},
   "source": [
    "### Below are a few examples of evaluating arithmetic expressions in Python."
   ]
  },
  {
   "cell_type": "code",
   "execution_count": 9,
   "id": "0a664779-8e72-4db2-940b-0d38ad8def73",
   "metadata": {},
   "outputs": [
    {
     "data": {
      "text/plain": [
       "17"
      ]
     },
     "execution_count": 9,
     "metadata": {},
     "output_type": "execute_result"
    }
   ],
   "source": [
    "# This a simple arithmetic expression to mutiply then add integers\n",
    "(3*4)+5"
   ]
  },
  {
   "cell_type": "code",
   "execution_count": 29,
   "id": "ca41b14c-aa90-4b73-8440-8f8014a61243",
   "metadata": {},
   "outputs": [
    {
     "name": "stdout",
     "output_type": "stream",
     "text": [
      "Hours= 3.3333333333333335\n"
     ]
    }
   ],
   "source": [
    "# This will convert 200 minutes to hours by diving by 60\n",
    "h= (200/60)\n",
    "print(\"Hours=\",h)"
   ]
  },
  {
   "cell_type": "markdown",
   "id": "23ee727e-4842-4275-a5e2-2a4500d1ff92",
   "metadata": {},
   "source": [
    "## Author \n",
    "Ricardo Hernández Sánchez"
   ]
  },
  {
   "cell_type": "code",
   "execution_count": null,
   "id": "e19ad12d-93d3-469a-a914-49283f52eed7",
   "metadata": {},
   "outputs": [],
   "source": []
  }
 ],
 "metadata": {
  "kernelspec": {
   "display_name": "Python 3 (ipykernel)",
   "language": "python",
   "name": "python3"
  },
  "language_info": {
   "codemirror_mode": {
    "name": "ipython",
    "version": 3
   },
   "file_extension": ".py",
   "mimetype": "text/x-python",
   "name": "python",
   "nbconvert_exporter": "python",
   "pygments_lexer": "ipython3",
   "version": "3.12.11"
  }
 },
 "nbformat": 4,
 "nbformat_minor": 5
}
